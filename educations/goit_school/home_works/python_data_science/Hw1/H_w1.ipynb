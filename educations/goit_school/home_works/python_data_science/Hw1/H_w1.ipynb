{
  "cells": [
    {
      "cell_type": "code",
      "execution_count": 4,
      "outputs": [
        {
          "output_type": "stream",
          "name": "stdout",
          "text": [
            "vector: \n",
            "[ 1  2  3  4  5  6  7  8  9 10]\n"
          ]
        }
      ],
      "source": [
        "#1.Створіть одновимірний масив (вектор) з першими 10-ма натуральними числами та виведіть його значення.\n",
        "import numpy as np\n",
        "\n",
        "v = np.arange(1, 11, 1)\n",
        "print(f\"vector: \\n{v}\")"
      ],
      "metadata": {
        "is_executing": true,
        "colab": {
          "base_uri": "https://localhost:8080/"
        },
        "id": "8-fOQY9K7sNw",
        "outputId": "4c4f4a17-c97b-412e-d680-63d95b43544d"
      }
    },
    {
      "cell_type": "code",
      "source": [
        "#2. Створіть двовимірний масив (матрицю) розміром 3x3, заповніть його нулями та виведіть його значення.\n",
        "import numpy as np\n",
        "\n",
        "m = np.zeros((3, 3))\n",
        "print(f\"matrix: \\n{m}\")"
      ],
      "metadata": {
        "colab": {
          "base_uri": "https://localhost:8080/"
        },
        "id": "hayNxIALE_B5",
        "outputId": "adbf4533-483e-44fc-ba1e-7c408e2995a8"
      },
      "execution_count": 5,
      "outputs": [
        {
          "output_type": "stream",
          "name": "stdout",
          "text": [
            "matrix: \n",
            "[[0. 0. 0.]\n",
            " [0. 0. 0.]\n",
            " [0. 0. 0.]]\n"
          ]
        }
      ]
    },
    {
      "cell_type": "code",
      "source": [
        "#3. Створіть масив розміром 5x5, заповніть його випадковими цілими числами в діапазоні від 1 до 10 та виведіть його значення.\n",
        "import numpy as np\n",
        "\n",
        "m = np.random.randint(1, 11, size=(5, 5))\n",
        "print(f\"matrix: \\n{m}\")"
      ],
      "metadata": {
        "colab": {
          "base_uri": "https://localhost:8080/"
        },
        "id": "bGxx9CusGauA",
        "outputId": "9cd63c69-2e7b-4fef-adb8-026214bd3fcd"
      },
      "execution_count": 31,
      "outputs": [
        {
          "output_type": "stream",
          "name": "stdout",
          "text": [
            "matrix: \n",
            "[[ 6  1  4  4  8]\n",
            " [10  4  6  3  5]\n",
            " [ 8  7  9  9  2]\n",
            " [ 7  8  8  9  2]\n",
            " [ 6 10  9 10  5]]\n"
          ]
        }
      ]
    },
    {
      "cell_type": "code",
      "source": [
        "#4. Створіть масив розміром 4x4, заповніть його випадковими дійсними числами в діапазоні від 0 до 1 та виведіть його значення.\n",
        "import numpy as np\n",
        "\n",
        "m = np.random.rand(4, 4)\n",
        "print(f\"matrix: \\n{m}\")"
      ],
      "metadata": {
        "colab": {
          "base_uri": "https://localhost:8080/"
        },
        "id": "eowtc4k1fgsT",
        "outputId": "79611d06-01fa-48d2-ee61-b70a51654fdf"
      },
      "execution_count": 32,
      "outputs": [
        {
          "output_type": "stream",
          "name": "stdout",
          "text": [
            "matrix: \n",
            "[[0.0202184  0.83261985 0.77815675 0.87001215]\n",
            " [0.97861834 0.79915856 0.46147936 0.78052918]\n",
            " [0.11827443 0.63992102 0.14335329 0.94466892]\n",
            " [0.52184832 0.41466194 0.26455561 0.77423369]]\n"
          ]
        }
      ]
    },
    {
      "cell_type": "code",
      "source": [
        "#5. Створіть два одновимірних масиви розміром 5, заповніть їх випадковими цілими числами в діапазоні від 1 до 10 та виконайте на них поелементні операції додавання, віднімання та множення.\n",
        "import numpy as np\n",
        "\n",
        "v_1 = np.random.randint(1, 11, size=(5))\n",
        "v_2 = np.random.randint(1, 11, size=(5))\n",
        "\n",
        "print(f\"v_1: \\n{v_1}\")\n",
        "print(f\"v_2: \\n{v_2}\")\n",
        "\n",
        "plus = v_1 + v_2\n",
        "print(f\"plus: \\n{plus}\")\n",
        "minus = v_1 - v_2\n",
        "print(f\"minus: \\n{minus}\")\n",
        "multipl = v_1 * v_2\n",
        "print(f\"multipl: \\n{multipl}\")"
      ],
      "metadata": {
        "colab": {
          "base_uri": "https://localhost:8080/"
        },
        "id": "-Sa1MJx5gDR9",
        "outputId": "7f2b6ef9-8d47-4dd1-e8fe-42e3954044fb"
      },
      "execution_count": 13,
      "outputs": [
        {
          "output_type": "stream",
          "name": "stdout",
          "text": [
            "v_1: \n",
            "[6 8 9 2 6]\n",
            "v_2: \n",
            "[ 2  3 10  2  5]\n",
            "plus: \n",
            "[ 8 11 19  4 11]\n",
            "minus: \n",
            "[ 4  5 -1  0  1]\n",
            "multipl: \n",
            "[12 24 90  4 30]\n"
          ]
        }
      ]
    },
    {
      "cell_type": "code",
      "source": [
        "#6. Створіть два вектори розміром 7, заповніть довільними числами та знайдіть їх скалярний добуток.\n",
        "import numpy as np\n",
        "\n",
        "v_1 = np.random.randint(1, 7, size=(7))\n",
        "v_2 = np.random.randint(1, 7, size=(7))\n",
        "\n",
        "print(f\"v_1: \\n{v_1}\")\n",
        "print(f\"v_2: \\n{v_2}\")\n",
        "\n",
        "s_m = np.dot(v_1, v_2)\n",
        "print(f\"s_m: \\n{s_m}\")"
      ],
      "metadata": {
        "colab": {
          "base_uri": "https://localhost:8080/"
        },
        "id": "o7cgnglrw24r",
        "outputId": "b9f26999-cbcf-4d1d-8a45-567ad3798ca6"
      },
      "execution_count": 12,
      "outputs": [
        {
          "output_type": "stream",
          "name": "stdout",
          "text": [
            "v_1: \n",
            "[6 1 4 3 6 3 5]\n",
            "v_2: \n",
            "[6 1 2 1 2 5 4]\n",
            "s_m: \n",
            "95\n"
          ]
        }
      ]
    },
    {
      "cell_type": "code",
      "source": [
        "#7. Створіть дві матриці розміром 2x2 та 2x3, заповніть їх випадковими цілими числами в діапазоні від 1 до 10 та перемножте їх між собою.\n",
        "import numpy as np\n",
        "\n",
        "m_1 = np.random.randint(1, 11, size=(2, 2))\n",
        "m_2 = np.random.randint(1, 11, size=(2, 3))\n",
        "s_m = np.dot(m_1, m_2)\n",
        "\n",
        "print(f\"m_1: \\n{m_1}\")\n",
        "print(f\"m_2: \\n{m_2}\")\n",
        "print(f\"s_m: \\n{s_m}\")"
      ],
      "metadata": {
        "colab": {
          "base_uri": "https://localhost:8080/"
        },
        "id": "0AY6nN_MyBym",
        "outputId": "17cfbd00-4d57-420d-c2fc-4e83da2d732c"
      },
      "execution_count": 16,
      "outputs": [
        {
          "output_type": "stream",
          "name": "stdout",
          "text": [
            "m_1: \n",
            "[[9 1]\n",
            " [3 5]]\n",
            "m_2: \n",
            "[[10  8  8]\n",
            " [ 6  3  9]]\n",
            "s_m: \n",
            "[[96 75 81]\n",
            " [60 39 69]]\n"
          ]
        }
      ]
    },
    {
      "cell_type": "code",
      "source": [
        "#8. Створіть матрицю розміром 3x3, заповніть її випадковими цілими числами в діапазоні від 1 до 10 та знайдіть її обернену матрицю.\n",
        "import numpy as np\n",
        "\n",
        "m = np.random.randint(1, 11, size=(3, 3))\n",
        "m_inv = np.linalg.inv(m)\n",
        "\n",
        "print(f\"m: \\n{m}\")\n",
        "print(f\"m_inv: \\n{(m_inv)}\")"
      ],
      "metadata": {
        "colab": {
          "base_uri": "https://localhost:8080/"
        },
        "id": "xpOhxfF40o-d",
        "outputId": "7c1b11ba-e85e-4d63-e900-df3cabd92f0f"
      },
      "execution_count": 30,
      "outputs": [
        {
          "output_type": "stream",
          "name": "stdout",
          "text": [
            "m: \n",
            "[[ 1  2  8]\n",
            " [ 6  6 10]\n",
            " [ 8  3  2]]\n",
            "m_inv: \n",
            "[[ 0.14754098 -0.16393443  0.2295082 ]\n",
            " [-0.55737705  0.50819672 -0.31147541]\n",
            " [ 0.24590164 -0.10655738  0.04918033]]\n"
          ]
        }
      ]
    },
    {
      "cell_type": "code",
      "source": [
        "#9. Створіть матрицю розміром 4x4, заповніть її випадковими дійсними числами в діапазоні від 0 до 1 та транспонуйте її.\n",
        "import numpy as np\n",
        "\n",
        "m = np.random.rand(4, 4)\n",
        "m_T = m.T\n",
        "\n",
        "print(f\"matrix: \\n{m}\")\n",
        "print(f\"matrix_trans: \\n{m_T}\")\n"
      ],
      "metadata": {
        "colab": {
          "base_uri": "https://localhost:8080/"
        },
        "id": "a4q8aqjb2uPN",
        "outputId": "bfb580a5-36fe-4e22-cffd-de712d327916"
      },
      "execution_count": 32,
      "outputs": [
        {
          "output_type": "stream",
          "name": "stdout",
          "text": [
            "matrix: \n",
            "[[0.10819415 0.58944759 0.25189195 0.79807194]\n",
            " [0.09648149 0.85157351 0.41815762 0.1500135 ]\n",
            " [0.49849609 0.57328258 0.22649723 0.89449032]\n",
            " [0.62018823 0.14835436 0.43466419 0.81234021]]\n",
            "matrix_trans: \n",
            "[[0.10819415 0.09648149 0.49849609 0.62018823]\n",
            " [0.58944759 0.85157351 0.57328258 0.14835436]\n",
            " [0.25189195 0.41815762 0.22649723 0.43466419]\n",
            " [0.79807194 0.1500135  0.89449032 0.81234021]]\n"
          ]
        }
      ]
    },
    {
      "cell_type": "code",
      "source": [
        "#10. Створіть матрицю розміром 3x4 та вектор розміром 4, заповніть їх випадковими цілими числами в діапазоні від 1 до 10 та перемножте матрицю на вектор.\n",
        "import numpy as np\n",
        "\n",
        "m = np.random.randint(1, 11, size=(3, 4))\n",
        "v = np.random.randint(1, 11, size=(4))\n",
        "res = np.dot(m, v)\n",
        "\n",
        "print(f\"m_1: \\n{m}\")\n",
        "print(f\"m_2: \\n{v}\")\n",
        "print(f\"res: \\n{res}\")\n"
      ],
      "metadata": {
        "colab": {
          "base_uri": "https://localhost:8080/"
        },
        "id": "XQjEuF4c3fh0",
        "outputId": "967c69e5-a160-4a38-e28f-3a401ccb9373"
      },
      "execution_count": 33,
      "outputs": [
        {
          "output_type": "stream",
          "name": "stdout",
          "text": [
            "m_1: \n",
            "[[ 5  3 10  3]\n",
            " [ 1  4  6  4]\n",
            " [ 6 10  2  1]]\n",
            "m_2: \n",
            "[2 1 2 3]\n",
            "res: \n",
            "[42 30 29]\n"
          ]
        }
      ]
    },
    {
      "cell_type": "code",
      "source": [
        "#11. Створіть матрицю розміром 2x3 та вектор розміром 3, заповніть їх випадковими дійсними числами в діапазоні від 0 до 1 та перемножте матрицю на вектор.\n",
        "import numpy as np\n",
        "\n",
        "m = np.random.random((2, 2))\n",
        "v = np.random.random((2))\n",
        "res = np.dot(m, v)\n",
        "\n",
        "print(f\"m_1: \\n{m}\")\n",
        "print(f\"m_2: \\n{v}\")\n",
        "print(f\"res: \\n{res}\")"
      ],
      "metadata": {
        "colab": {
          "base_uri": "https://localhost:8080/"
        },
        "id": "B3Zf-C0u5alH",
        "outputId": "c8646de2-18b1-4568-a383-0b183507f8c5"
      },
      "execution_count": 35,
      "outputs": [
        {
          "output_type": "stream",
          "name": "stdout",
          "text": [
            "m_1: \n",
            "[[0.9044754  0.01615238]\n",
            " [0.05198939 0.3550322 ]]\n",
            "m_2: \n",
            "[0.7778351  0.03799138]\n",
            "res: \n",
            "[0.70414636 0.05392733]\n"
          ]
        }
      ]
    },
    {
      "cell_type": "code",
      "source": [
        "#12. Створіть дві матриці розміром 2x2, заповніть їх випадковими цілими числами в діапазоні від 1 до 10 та виконайте їхнє поелементне множення.\n",
        "import numpy as np\n",
        "\n",
        "m_1 = np.random.randint(1, 11, size=(2, 2))\n",
        "m_2 = np.random.randint(1, 11, size=(2, 2))\n",
        "s_m = m_1 * m_2\n",
        "\n",
        "print(f\"m_1: \\n{m_1}\")\n",
        "print(f\"m_2: \\n{m_2}\")\n",
        "print(f\"s_m: \\n{s_m}\")"
      ],
      "metadata": {
        "colab": {
          "base_uri": "https://localhost:8080/"
        },
        "id": "LqT5oG_q5wMX",
        "outputId": "33b2fd1c-3644-42da-aa73-f71e32ac2e65"
      },
      "execution_count": 37,
      "outputs": [
        {
          "output_type": "stream",
          "name": "stdout",
          "text": [
            "m_1: \n",
            "[[6 4]\n",
            " [7 5]]\n",
            "m_2: \n",
            "[[5 8]\n",
            " [1 8]]\n",
            "s_m: \n",
            "[[30 32]\n",
            " [ 7 40]]\n"
          ]
        }
      ]
    },
    {
      "cell_type": "code",
      "source": [
        "#13. Створіть дві матриці розміром 2x2, заповніть їх випадковими цілими числами в діапазоні від 1 до 10 та знайдіть їх добуток.\n",
        "import numpy as np\n",
        "\n",
        "m_1 = np.random.randint(1, 11, size=(2, 2))\n",
        "m_2 = np.random.randint(1, 11, size=(2, 2))\n",
        "s_m = np.dot(m_1, m_2)\n",
        "\n",
        "print(f\"m_1: \\n{m_1}\")\n",
        "print(f\"m_2: \\n{m_2}\")\n",
        "print(f\"s_m: \\n{s_m}\")"
      ],
      "metadata": {
        "colab": {
          "base_uri": "https://localhost:8080/"
        },
        "id": "0m9Qm0r_BmSL",
        "outputId": "26a4b215-975d-4cf6-8276-74db406ccf40"
      },
      "execution_count": 38,
      "outputs": [
        {
          "output_type": "stream",
          "name": "stdout",
          "text": [
            "m_1: \n",
            "[[10  7]\n",
            " [10  2]]\n",
            "m_2: \n",
            "[[3 1]\n",
            " [3 8]]\n",
            "s_m: \n",
            "[[51 66]\n",
            " [36 26]]\n"
          ]
        }
      ]
    },
    {
      "cell_type": "code",
      "source": [
        "#14. Створіть матрицю розміром 5x5, заповніть її випадковими цілими числами в діапазоні від 1 до 100 та знайдіть суму елементів матриці.\n",
        "import numpy as np\n",
        "\n",
        "m = np.random.randint(1, 101, size=(5, 5))\n",
        "sum = np.sum(m)\n",
        "\n",
        "print(f\"m: \\n{m}\")\n",
        "print(f\"sum: \\n{sum}\")"
      ],
      "metadata": {
        "colab": {
          "base_uri": "https://localhost:8080/"
        },
        "id": "h2pF5voeCFtR",
        "outputId": "32505334-6248-4986-ac98-d6e62037d543"
      },
      "execution_count": 42,
      "outputs": [
        {
          "output_type": "stream",
          "name": "stdout",
          "text": [
            "m: \n",
            "[[ 85  96 100  92  13]\n",
            " [ 95  13  28  48  70]\n",
            " [ 43  60  96  29  64]\n",
            " [  8  22  80  94  45]\n",
            " [  7   6  45  64  41]]\n",
            "sum: \n",
            "1344\n"
          ]
        }
      ]
    },
    {
      "cell_type": "code",
      "source": [
        "#15. Створіть дві матриці розміром 4x4, заповніть їх випадковими цілими числами в діапазоні від 1 до 10 та знайдіть їхню різницю.\n",
        "m_1 = np.random.randint(1, 11, size=(4, 4))\n",
        "m_2 = np.random.randint(1, 11, size=(4, 4))\n",
        "minus = m_1 - m_2\n",
        "\n",
        "print(f\"m_1: \\n{m_1}\")\n",
        "print(f\"m_2: \\n{m_2}\")\n",
        "print(f\"minus: \\n{minus}\")\n"
      ],
      "metadata": {
        "colab": {
          "base_uri": "https://localhost:8080/"
        },
        "id": "JMZ0iO_OC-GB",
        "outputId": "f625d7ef-4f6d-47a9-8ea8-382ded730d14"
      },
      "execution_count": 44,
      "outputs": [
        {
          "output_type": "stream",
          "name": "stdout",
          "text": [
            "m_1: \n",
            "[[ 4  9  7  5]\n",
            " [ 1  8  7  1]\n",
            " [ 4  5  5  4]\n",
            " [10  4  6 10]]\n",
            "m_2: \n",
            "[[ 6  6  9 10]\n",
            " [ 3  6  1  4]\n",
            " [ 5  3  3  4]\n",
            " [ 7  7 10  5]]\n",
            "minus: \n",
            "[[-2  3 -2 -5]\n",
            " [-2  2  6 -3]\n",
            " [-1  2  2  0]\n",
            " [ 3 -3 -4  5]]\n"
          ]
        }
      ]
    },
    {
      "cell_type": "code",
      "source": [
        "#16. Створіть матрицю розміром 3x3, заповніть її випадковими дійсними числами в діапазоні від 0 до 1 та знайдіть вектор-стовпчик, що містить суму елементів кожного рядка матриці.\n",
        "import numpy as np\n",
        "\n",
        "m = np.random.random((3, 3))\n",
        "sum = np.sum(m, axis=1)\n",
        "v_sum = sum[:, np.newaxis]\n",
        "\n",
        "print(f\"m: \\n{m}\")\n",
        "print(f\"sum: \\n{v_sum}\")"
      ],
      "metadata": {
        "colab": {
          "base_uri": "https://localhost:8080/"
        },
        "id": "bx89RHM2D4oQ",
        "outputId": "07bb65f2-376f-46d1-d352-9554463584b2"
      },
      "execution_count": 7,
      "outputs": [
        {
          "output_type": "stream",
          "name": "stdout",
          "text": [
            "m: \n",
            "[[0.38672827 0.73674098 0.72809466]\n",
            " [0.99981203 0.22668673 0.60815245]\n",
            " [0.43138777 0.34870638 0.13699731]]\n",
            "sum: \n",
            "[[1.85156391]\n",
            " [1.83465121]\n",
            " [0.91709147]]\n"
          ]
        }
      ]
    },
    {
      "cell_type": "code",
      "source": [
        "#17. Створіть матрицю розміром 3x4 з довільними цілими числами і створінь матрицю з квадратами цих чисел.\n",
        "import numpy as np\n",
        "\n",
        "m = np.random.randint(1, 20, size=(3, 4))\n",
        "\n",
        "sq = np.square(m)\n",
        "\n",
        "print(f\"m: \\n{m}\")\n",
        "print(f\"sq: \\n{sq}\")"
      ],
      "metadata": {
        "colab": {
          "base_uri": "https://localhost:8080/"
        },
        "id": "7Jpb7AWxE7gG",
        "outputId": "a3249e9b-f1e8-4190-b710-bae823060158"
      },
      "execution_count": 54,
      "outputs": [
        {
          "output_type": "stream",
          "name": "stdout",
          "text": [
            "m: \n",
            "[[15  5 16  3]\n",
            " [12 18 12 18]\n",
            " [17  4 13  5]]\n",
            "sq: \n",
            "[[225  25 256   9]\n",
            " [144 324 144 324]\n",
            " [289  16 169  25]]\n"
          ]
        }
      ]
    }
  ],
  "metadata": {
    "kernelspec": {
      "display_name": "Python 3",
      "language": "python",
      "name": "python3"
    },
    "language_info": {
      "codemirror_mode": {
        "name": "ipython",
        "version": 3
      },
      "file_extension": ".py",
      "mimetype": "text/x-python",
      "name": "python",
      "nbconvert_exporter": "python",
      "pygments_lexer": "ipython3",
      "version": "3.11.3"
    },
    "orig_nbformat": 4,
    "colab": {
      "provenance": []
    }
  },
  "nbformat": 4,
  "nbformat_minor": 0
}